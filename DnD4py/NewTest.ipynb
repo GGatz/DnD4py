{
 "cells": [
  {
   "cell_type": "code",
   "execution_count": 1,
   "metadata": {},
   "outputs": [],
   "source": [
    "from bs4 import BeautifulSoup as bs\n",
    "import requests\n",
    "from textwrap import fill as wrap"
   ]
  },
  {
   "cell_type": "code",
   "execution_count": 2,
   "metadata": {},
   "outputs": [],
   "source": [
    "url = \"https://www.dnd-spells.com/spell/wall-of-fire\"\n",
    "# url = 'https://www.dnd-spells.com/spell/leomunds-secret-chest'"
   ]
  },
  {
   "cell_type": "code",
   "execution_count": 3,
   "metadata": {},
   "outputs": [],
   "source": [
    "# url = \"https://www.roll20.net/Fireball\""
   ]
  },
  {
   "cell_type": "code",
   "execution_count": 4,
   "metadata": {},
   "outputs": [],
   "source": [
    "from lookup_5e import Roll20Spell"
   ]
  },
  {
   "cell_type": "code",
   "execution_count": 47,
   "metadata": {},
   "outputs": [],
   "source": [
    "class NewSpell(Roll20Spell):\n",
    "    def __init__(self, name, site=\"https://www.dnd-spells.com/spell/\"):\n",
    "        self.name = name.rstrip().title()\n",
    "        self.attributes = {}\n",
    "        formatted_name = self.name.lower().replace(' ', '-')\n",
    "        url = site + formatted_name\n",
    "        page = requests.get(url, timeout=1)\n",
    "        if (page.status_code != 200) or (page.url != url):\n",
    "            raise IOError('{:s} not found at {:s}.'.format(name,\n",
    "                                                           url))\n",
    "        soup = bs(page.text, 'html.parser')\n",
    "        base = soup.find_all('h1')[0]\n",
    "        school = base.find_next('p')\n",
    "        self.attributes['School'] = school.text\n",
    "        body = school.find_next('p')\n",
    "        details = body.text.strip().replace('\\r', '').replace('\\n', '').split('                 ')\n",
    "        for entry in details:\n",
    "            k, v = entry.split(': ')\n",
    "            self.attributes[k.title()] = v.capitalize()\n",
    "        if '(' in self.attributes['Components']:\n",
    "            self.attributes['Components'], mat = self.attributes['Components'].split('(')\n",
    "            self.attributes['Material'] = mat.strip(')').capitalize()\n",
    "\n",
    "        self.attributes['Components'] = self.attributes['Components'].replace(' ', '').replace(',', ' ')\n",
    "        if 'cantrip' in self.attributes['Level'].lower():\n",
    "            self.attributes['Level'] = '0'\n",
    "        desc = body.find_next('p')\n",
    "        self.desc = desc.text.strip().replace('\\r', '')\n",
    "        if 'higher level' in desc.find_next('h4').text.lower():\n",
    "            desc = desc.find_next('p')\n",
    "            self.desc += '\\n\\nAt Higher Levels: '\n",
    "            self.desc += desc.text.strip()\n",
    "        self.desc = wrap(self.desc, 80, drop_whitespace=False,\n",
    "                        replace_whitespace=False)\n",
    "        classes = desc.find_next('p').find_next('p')\n",
    "        self.attributes['Classes'] = ', '.join(classes.text.replace(',', '').split()[1:-1])"
   ]
  },
  {
   "cell_type": "code",
   "execution_count": 48,
   "metadata": {},
   "outputs": [],
   "source": [
    "name = 'fireball'"
   ]
  },
  {
   "cell_type": "code",
   "execution_count": 49,
   "metadata": {},
   "outputs": [],
   "source": [
    "a = NewSpell(name)"
   ]
  },
  {
   "cell_type": "code",
   "execution_count": 42,
   "metadata": {},
   "outputs": [],
   "source": [
    "b = Roll20Spell(name)"
   ]
  },
  {
   "cell_type": "code",
   "execution_count": 50,
   "metadata": {},
   "outputs": [
    {
     "name": "stdout",
     "output_type": "stream",
     "text": [
      "class Fireball(Spell):\n",
      "    \"\"\"A bright streak flashes from your pointing finger to a point you choose within \n",
      "    range then blossoms with a low roar into an explosion of flame.\n",
      "    Each creature in\n",
      "     a 20-foot radius must make a Dexterity saving throw. A target takes 8d6 fire \n",
      "    damage on a failed save, or half as much damage on a successful one. The fire \n",
      "    spreads around corners. It ignites flammable objects in the area that aren’t \n",
      "    being worn or carried.\n",
      "    \n",
      "    At Higher Levels: When you cast this spell using a spell\n",
      "     slot of 4th level or higher, the damage increases by 1d6 for each slot level \n",
      "    above 3rd.\n",
      "    \"\"\"\n",
      "    name = \"Fireball\"\n",
      "    level = 3\n",
      "    casting_time = \"1 action\"\n",
      "    casting_range = \"150 feet\"\n",
      "    components = ('V', 's', 'm')\n",
      "    materials = \"\"\"A tiny ball of bat guano and sulfur\"\"\"\n",
      "    duration = \"Instantaneous\"\n",
      "    magic_school = \"Evocation\"\n",
      "    classes = ('Sorcerer', 'Wizard')\n",
      "\n",
      "\n"
     ]
    }
   ],
   "source": [
    "print(a.as_dungeonsheets_class())"
   ]
  },
  {
   "cell_type": "code",
   "execution_count": 44,
   "metadata": {},
   "outputs": [
    {
     "name": "stdout",
     "output_type": "stream",
     "text": [
      "class Fireball(Spell):\n",
      "    \"\"\"A bright streak flashes from your pointing finger to a point you choose within \n",
      "    range then blossoms with a low roar into an explosion of flame. Each creature in\n",
      "     a 20-foot radius sphere centered on that point must make a Dexterity saving \n",
      "    throw. A target takes 8d6 fire damage on a failed save, or half as much damage \n",
      "    on a successful one.\n",
      "    \n",
      "    The fire spreads around corners. It ignites flammable \n",
      "    objects in the area that aren't being worn or carried.\n",
      "    \n",
      "    At Higher Levels: When \n",
      "    you cast this spell using a spell slot of 4th level or higher, the damage \n",
      "    increases by 1d6 for each slot level above 3rd.\n",
      "    \"\"\"\n",
      "    name = \"Fireball\"\n",
      "    level = 3\n",
      "    casting_time = \"1 action\"\n",
      "    casting_range = \"150 feet\"\n",
      "    components = ('V', 'S', 'M')\n",
      "    materials = \"\"\"A tiny ball of bat guano and sulfur\"\"\"\n",
      "    duration = \"Instantaneous\"\n",
      "    magic_school = \"Evocation\"\n",
      "    classes = ('Sorcerer', 'Wizard')\n",
      "\n",
      "\n"
     ]
    }
   ],
   "source": [
    "print(b.as_dungeonsheets_class())"
   ]
  }
 ],
 "metadata": {
  "kernelspec": {
   "display_name": "Python 3",
   "language": "python",
   "name": "python3"
  },
  "language_info": {
   "codemirror_mode": {
    "name": "ipython",
    "version": 3
   },
   "file_extension": ".py",
   "mimetype": "text/x-python",
   "name": "python",
   "nbconvert_exporter": "python",
   "pygments_lexer": "ipython3",
   "version": "3.6.4"
  }
 },
 "nbformat": 4,
 "nbformat_minor": 2
}
